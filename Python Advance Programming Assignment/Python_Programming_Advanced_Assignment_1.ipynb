{
 "cells": [
  {
   "cell_type": "markdown",
   "id": "77d88585",
   "metadata": {},
   "source": [
    "#### 1.  Write a function that takes a list of lists and returns the value of all of the symbols in it, where each symbol adds or takes something from the total score. Symbol values:\n",
    "\n",
    "#' = 5\n",
    "O = 3\n",
    "X = 1\n",
    "! = -1\n",
    "!! = -3\n",
    "!!! = -5\n"
   ]
  },
  {
   "cell_type": "code",
   "execution_count": 32,
   "id": "dd2d4c2d",
   "metadata": {},
   "outputs": [],
   "source": [
    "def check_score(*args):\n",
    "    try:\n",
    "        s = 0\n",
    "        for i in args:\n",
    "            for k in i:\n",
    "                for j in k:\n",
    "                    if j == '#':\n",
    "                        j = 5\n",
    "                    if j == \"O\":\n",
    "                        j = 3\n",
    "                    if j == \"X\":\n",
    "                        j = 1\n",
    "                    if j == \"!\":\n",
    "                        j = -1\n",
    "                    if j == \"!!\":\n",
    "                        j = -3\n",
    "                    if j == \"!!!\":\n",
    "                        j = -5\n",
    "                    s = s + j\n",
    "            if s < 0:\n",
    "                return 0\n",
    "            else:\n",
    "                return s\n",
    "    except Exception as e:\n",
    "        print(e)"
   ]
  },
  {
   "cell_type": "code",
   "execution_count": 33,
   "id": "26c9adc2",
   "metadata": {},
   "outputs": [
    {
     "data": {
      "text/plain": [
       "2"
      ]
     },
     "execution_count": 33,
     "metadata": {},
     "output_type": "execute_result"
    }
   ],
   "source": [
    "check_score([[\"#\", \"!\"], [\"!!\", \"X\"]])"
   ]
  },
  {
   "cell_type": "code",
   "execution_count": 34,
   "id": "0e624883",
   "metadata": {},
   "outputs": [
    {
     "data": {
      "text/plain": [
       "0"
      ]
     },
     "execution_count": 34,
     "metadata": {},
     "output_type": "execute_result"
    }
   ],
   "source": [
    "check_score([\n",
    "  [\"!!!\", \"O\", \"!\"],\n",
    "  [\"X\", \"#\", \"!!!\"],\n",
    "  [\"!!\", \"X\", \"O\"]\n",
    "]\n",
    ")"
   ]
  },
  {
   "cell_type": "markdown",
   "id": "2c7c2a4d",
   "metadata": {},
   "source": [
    "#### 2. Create a function that takes a variable number of arguments, each argument representing the number of items in a group, and returns the number of permutations (combinations) of items that you could get by taking one item from each group."
   ]
  },
  {
   "cell_type": "code",
   "execution_count": 68,
   "id": "240f910b",
   "metadata": {},
   "outputs": [],
   "source": [
    "def combination(*args):\n",
    "    try:\n",
    "    \n",
    "        if type(args) != list:\n",
    "            args = list(args)\n",
    "            prod = 1\n",
    "            for i in range(len(args)):\n",
    "                prod = prod*args[i]\n",
    "            return prod\n",
    "        else:\n",
    "            prod = 1\n",
    "            for i in range(len(args)):\n",
    "                prod = prod*args[i]\n",
    "            return prod\n",
    "        \n",
    "    except Exception as e:\n",
    "        print(e)\n",
    "        "
   ]
  },
  {
   "cell_type": "code",
   "execution_count": 69,
   "id": "970c18eb",
   "metadata": {},
   "outputs": [
    {
     "data": {
      "text/plain": [
       "6"
      ]
     },
     "execution_count": 69,
     "metadata": {},
     "output_type": "execute_result"
    }
   ],
   "source": [
    "combination(2,3)"
   ]
  },
  {
   "cell_type": "code",
   "execution_count": 70,
   "id": "4b4c5721",
   "metadata": {},
   "outputs": [
    {
     "data": {
      "text/plain": [
       "84"
      ]
     },
     "execution_count": 70,
     "metadata": {},
     "output_type": "execute_result"
    }
   ],
   "source": [
    "combination(3,7,4)"
   ]
  },
  {
   "cell_type": "code",
   "execution_count": 71,
   "id": "bcceeba5",
   "metadata": {},
   "outputs": [
    {
     "data": {
      "text/plain": [
       "120"
      ]
     },
     "execution_count": 71,
     "metadata": {},
     "output_type": "execute_result"
    }
   ],
   "source": [
    "combination(2,3,4,5)"
   ]
  },
  {
   "cell_type": "code",
   "execution_count": 73,
   "id": "eee578cd",
   "metadata": {},
   "outputs": [
    {
     "data": {
      "text/plain": [
       "'e'"
      ]
     },
     "execution_count": 73,
     "metadata": {},
     "output_type": "execute_result"
    }
   ],
   "source": [
    "combination('e')"
   ]
  },
  {
   "cell_type": "code",
   "execution_count": 43,
   "id": "4c7acb6e",
   "metadata": {},
   "outputs": [],
   "source": [
    "def combination(*args):\n",
    "    if type(args) != list:\n",
    "        args = list(args)\n",
    "    print(type(args))\n",
    "        "
   ]
  },
  {
   "cell_type": "code",
   "execution_count": 45,
   "id": "c1275272",
   "metadata": {},
   "outputs": [],
   "source": [
    "args = (2,3)"
   ]
  },
  {
   "cell_type": "code",
   "execution_count": 51,
   "id": "4bdb4761",
   "metadata": {},
   "outputs": [
    {
     "name": "stdout",
     "output_type": "stream",
     "text": [
      "[2, 3]\n",
      "6\n"
     ]
    }
   ],
   "source": [
    "args = list(args)\n",
    "print(args)\n",
    "prod = 1\n",
    "for i in range(len(args)):\n",
    "    prod = prod*args[i]\n",
    "print(prod)"
   ]
  },
  {
   "cell_type": "code",
   "execution_count": 50,
   "id": "d286e791",
   "metadata": {},
   "outputs": [
    {
     "name": "stdout",
     "output_type": "stream",
     "text": [
      "0\n",
      "1\n"
     ]
    }
   ],
   "source": [
    "for i in range(len(args)):\n",
    "    print(i)"
   ]
  },
  {
   "cell_type": "markdown",
   "id": "44d9b7fd",
   "metadata": {},
   "source": [
    "#### 3. Create a function that takes a string as an argument and returns the Morse code equivalent."
   ]
  },
  {
   "cell_type": "code",
   "execution_count": 74,
   "id": "42b47504",
   "metadata": {},
   "outputs": [],
   "source": [
    "char_to_dots = {\n",
    "  'A': '.-', 'B': '-...', 'C': '-.-.', 'D': '-..', 'E': '.', 'F': '..-.',\n",
    "  'G': '--.', 'H': '....', 'I': '..', 'J': '.---', 'K': '-.-', 'L': '.-..',\n",
    "  'M': '--', 'N': '-.', 'O': '---', 'P': '.--.', 'Q': '--.-', 'R': '.-.',\n",
    "  'S': '...', 'T': '-', 'U': '..-', 'V': '...-', 'W': '.--', 'X': '-..-',\n",
    "  'Y': '-.--', 'Z': '--..', ' ': ' ', '0': '-----',\n",
    "  '1': '.----', '2': '..---', '3': '...--', '4': '....-', '5': '.....',\n",
    "  '6': '-....', '7': '--...', '8': '---..', '9': '----.',\n",
    "  '&': '.-...', \"'\": '.----.', '@': '.--.-.', ')': '-.--.-', '(': '-.--.',\n",
    "  ':': '---...', ',': '--..--', '=': '-...-', '!': '-.-.--', '.': '.-.-.-',\n",
    "  '-': '-....-', '+': '.-.-.', '\"': '.-..-.', '?': '..--..', '/': '-..-.'\n",
    "}\n"
   ]
  },
  {
   "cell_type": "code",
   "execution_count": 122,
   "id": "3d4c7823",
   "metadata": {},
   "outputs": [],
   "source": [
    "def morse_code_conv():\n",
    "    try:\n",
    "        word = input(\"Enter the sentence you want to code: \")\n",
    "        encoded = \"\"\n",
    "        for letter in word.upper():\n",
    "            if letter != \" \":\n",
    "                encoded = encoded + char_to_dots[letter] + ' '\n",
    "            else:\n",
    "                encoded = encoded + ' '\n",
    "        return encoded\n",
    "    \n",
    "    except Exception as e:\n",
    "        print(e)\n",
    "                "
   ]
  },
  {
   "cell_type": "code",
   "execution_count": 123,
   "id": "7e451081",
   "metadata": {},
   "outputs": [
    {
     "name": "stdout",
     "output_type": "stream",
     "text": [
      "Enter the sentence you want to code: edabbit challenge\n"
     ]
    },
    {
     "data": {
      "text/plain": [
       "'. -.. .- -... -... .. -  -.-. .... .- .-.. .-.. . -. --. . '"
      ]
     },
     "execution_count": 123,
     "metadata": {},
     "output_type": "execute_result"
    }
   ],
   "source": [
    "morse_code_conv()"
   ]
  },
  {
   "cell_type": "code",
   "execution_count": 124,
   "id": "c6eced94",
   "metadata": {},
   "outputs": [
    {
     "name": "stdout",
     "output_type": "stream",
     "text": [
      "Enter the sentence you want to code: help me\n"
     ]
    },
    {
     "data": {
      "text/plain": [
       "'.... . .-.. .--.  -- . '"
      ]
     },
     "execution_count": 124,
     "metadata": {},
     "output_type": "execute_result"
    }
   ],
   "source": [
    "morse_code_conv()"
   ]
  },
  {
   "cell_type": "markdown",
   "id": "87951604",
   "metadata": {},
   "source": [
    "#### 4.  Write a function that takes a number and returns True if it's a prime; False otherwise. The number can be 2^64-1 (2 to the power of 63, not XOR). With the standard technique it would be O(2^64-1), which is much too large for the 10 second time limit."
   ]
  },
  {
   "cell_type": "code",
   "execution_count": 154,
   "id": "f30967f5",
   "metadata": {},
   "outputs": [],
   "source": [
    "def is_prime(n):\n",
    "    try:\n",
    "        flag = False\n",
    "        if n > 1:\n",
    "            for i in range(2,n):\n",
    "                if n % i == 0:\n",
    "                    flag = True\n",
    "                    break\n",
    "        if flag:\n",
    "            return 'Not Prime'\n",
    "        else:\n",
    "            return 'Prime'\n",
    "    except Exception as e:\n",
    "        print(e)"
   ]
  },
  {
   "cell_type": "code",
   "execution_count": 161,
   "id": "588b252d",
   "metadata": {},
   "outputs": [
    {
     "data": {
      "text/plain": [
       "'Not Prime'"
      ]
     },
     "execution_count": 161,
     "metadata": {},
     "output_type": "execute_result"
    }
   ],
   "source": [
    "is_prime(98)"
   ]
  },
  {
   "cell_type": "code",
   "execution_count": 162,
   "id": "2e7b5160",
   "metadata": {},
   "outputs": [
    {
     "data": {
      "text/plain": [
       "'Prime'"
      ]
     },
     "execution_count": 162,
     "metadata": {},
     "output_type": "execute_result"
    }
   ],
   "source": [
    "is_prime(56963)"
   ]
  },
  {
   "cell_type": "code",
   "execution_count": 163,
   "id": "a16487d4",
   "metadata": {},
   "outputs": [
    {
     "data": {
      "text/plain": [
       "'Not Prime'"
      ]
     },
     "execution_count": 163,
     "metadata": {},
     "output_type": "execute_result"
    }
   ],
   "source": [
    "is_prime(5151512515524)"
   ]
  },
  {
   "cell_type": "code",
   "execution_count": 167,
   "id": "466ca882",
   "metadata": {},
   "outputs": [
    {
     "data": {
      "text/plain": [
       "'Not Prime'"
      ]
     },
     "execution_count": 167,
     "metadata": {},
     "output_type": "execute_result"
    }
   ],
   "source": [
    "is_prime(7**(64-1))"
   ]
  },
  {
   "cell_type": "code",
   "execution_count": 186,
   "id": "622d702f",
   "metadata": {},
   "outputs": [],
   "source": [
    "import string"
   ]
  },
  {
   "cell_type": "code",
   "execution_count": 187,
   "id": "79ffe71c",
   "metadata": {},
   "outputs": [],
   "source": [
    "az_Upper = string.ascii_uppercase\n",
    "l = []\n",
    "for i in az_Upper:\n",
    "    l.append(i)"
   ]
  },
  {
   "cell_type": "code",
   "execution_count": 189,
   "id": "92df154b",
   "metadata": {},
   "outputs": [
    {
     "name": "stdout",
     "output_type": "stream",
     "text": [
      "['A', 'B', 'C', 'D', 'E', 'F', 'G', 'H', 'I', 'J', 'K', 'L', 'M', 'N', 'O', 'P', 'Q', 'R', 'S', 'T', 'U', 'V', 'W', 'X', 'Y', 'Z']\n"
     ]
    }
   ],
   "source": [
    "print(l)"
   ]
  },
  {
   "cell_type": "code",
   "execution_count": 215,
   "id": "fe3095db",
   "metadata": {},
   "outputs": [],
   "source": [
    "def to_boolean_list():\n",
    "    try:\n",
    "        word = input()\n",
    "        l1 = []\n",
    "        for letter in word.upper():\n",
    "            if letter in l:\n",
    "                n = l.index(letter)\n",
    "                if n%2 == 0:\n",
    "                    n = True\n",
    "                else:\n",
    "                    n = False\n",
    "            l1.append(n)\n",
    "        return(l1)\n",
    "    except Exception as e:\n",
    "               print(e)"
   ]
  },
  {
   "cell_type": "code",
   "execution_count": 211,
   "id": "f22d0270",
   "metadata": {},
   "outputs": [
    {
     "name": "stdout",
     "output_type": "stream",
     "text": [
      "deep\n"
     ]
    },
    {
     "data": {
      "text/plain": [
       "[False, True, True, False]"
      ]
     },
     "execution_count": 211,
     "metadata": {},
     "output_type": "execute_result"
    }
   ],
   "source": [
    "to_boolean_list()"
   ]
  },
  {
   "cell_type": "code",
   "execution_count": 212,
   "id": "00281a2b",
   "metadata": {},
   "outputs": [
    {
     "name": "stdout",
     "output_type": "stream",
     "text": [
      "loves\n"
     ]
    },
    {
     "data": {
      "text/plain": [
       "[False, True, False, True, True]"
      ]
     },
     "execution_count": 212,
     "metadata": {},
     "output_type": "execute_result"
    }
   ],
   "source": [
    "to_boolean_list()"
   ]
  },
  {
   "cell_type": "code",
   "execution_count": 213,
   "id": "2616852c",
   "metadata": {},
   "outputs": [
    {
     "name": "stdout",
     "output_type": "stream",
     "text": [
      "tesh\n"
     ]
    },
    {
     "data": {
      "text/plain": [
       "[False, True, True, False]"
      ]
     },
     "execution_count": 213,
     "metadata": {},
     "output_type": "execute_result"
    }
   ],
   "source": [
    "to_boolean_list()"
   ]
  }
 ],
 "metadata": {
  "kernelspec": {
   "display_name": "Python 3 (ipykernel)",
   "language": "python",
   "name": "python3"
  },
  "language_info": {
   "codemirror_mode": {
    "name": "ipython",
    "version": 3
   },
   "file_extension": ".py",
   "mimetype": "text/x-python",
   "name": "python",
   "nbconvert_exporter": "python",
   "pygments_lexer": "ipython3",
   "version": "3.9.7"
  }
 },
 "nbformat": 4,
 "nbformat_minor": 5
}
