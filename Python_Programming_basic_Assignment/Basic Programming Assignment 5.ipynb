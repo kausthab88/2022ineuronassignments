{
 "cells": [
  {
   "cell_type": "markdown",
   "id": "7cc8f767",
   "metadata": {},
   "source": [
    "#### 1. Write a Python Program to Find LCM?"
   ]
  },
  {
   "cell_type": "code",
   "execution_count": 35,
   "id": "77dfc8b5",
   "metadata": {},
   "outputs": [],
   "source": [
    "import logging as log"
   ]
  },
  {
   "cell_type": "code",
   "execution_count": 2,
   "id": "8d084334",
   "metadata": {},
   "outputs": [],
   "source": [
    "def calc_lcm(x,y):\n",
    "    \n",
    "    log.basicConfig(filename = 'assignment5.log', level = log.DEBUG, format = '%(asctime)s %(message)s %(levelname)s')\n",
    "    \n",
    "    try:\n",
    "        if x>y:\n",
    "            greater = x\n",
    "        else:\n",
    "            greater = y\n",
    "\n",
    "        while(True):\n",
    "            if((greater % x ==0) and (greater % y == 0)):\n",
    "                lcm = greater\n",
    "                break\n",
    "            greater = greater + 1\n",
    "        return lcm\n",
    "    \n",
    "    except Exception as e:\n",
    "        print('There is some error with input. Please check')\n",
    "        print(e)"
   ]
  },
  {
   "cell_type": "code",
   "execution_count": 3,
   "id": "e2bb33fe",
   "metadata": {},
   "outputs": [
    {
     "data": {
      "text/plain": [
       "88"
      ]
     },
     "execution_count": 3,
     "metadata": {},
     "output_type": "execute_result"
    }
   ],
   "source": [
    "calc_lcm(4,88)"
   ]
  },
  {
   "cell_type": "markdown",
   "id": "d235f420",
   "metadata": {},
   "source": [
    "#### 2. Write a Python Program to Find HCF?"
   ]
  },
  {
   "cell_type": "code",
   "execution_count": 11,
   "id": "d53544fd",
   "metadata": {},
   "outputs": [],
   "source": [
    "def cal_hcf(x,y):\n",
    "    \n",
    "    log.basicConfig(filename = 'assignment5.log', level = log.DEBUG, format = '%(asctime)s %(message)s %(levelname)s')\n",
    "    \n",
    "    try:\n",
    "        if x>y:\n",
    "            smaller = y\n",
    "        else: \n",
    "            smaller = x \n",
    "\n",
    "        for i in range(1,smaller+1):\n",
    "            if((smaller % x ==0) and (smaller % y == 0)):\n",
    "                hcf = i\n",
    "        return i\n",
    "    except Exception as e:\n",
    "        print('input is incorrect. please check')\n",
    "        return e"
   ]
  },
  {
   "cell_type": "code",
   "execution_count": 12,
   "id": "d56c2536",
   "metadata": {},
   "outputs": [
    {
     "name": "stdout",
     "output_type": "stream",
     "text": [
      "input is incorrect. please check\n"
     ]
    },
    {
     "data": {
      "text/plain": [
       "TypeError(\"'>' not supported between instances of 'str' and 'int'\")"
      ]
     },
     "execution_count": 12,
     "metadata": {},
     "output_type": "execute_result"
    }
   ],
   "source": [
    "cal_hcf('s',49)"
   ]
  },
  {
   "cell_type": "code",
   "execution_count": 14,
   "id": "8b87faac",
   "metadata": {},
   "outputs": [
    {
     "data": {
      "text/plain": [
       "25"
      ]
     },
     "execution_count": 14,
     "metadata": {},
     "output_type": "execute_result"
    }
   ],
   "source": [
    "cal_hcf(25,35)"
   ]
  },
  {
   "cell_type": "markdown",
   "id": "460ff207",
   "metadata": {},
   "source": [
    "#### 3. Write a Python Program to Convert Decimal to Binary, Octal and Hexadecimal?\n"
   ]
  },
  {
   "cell_type": "code",
   "execution_count": 21,
   "id": "df44b570",
   "metadata": {},
   "outputs": [],
   "source": [
    "def convert_dec(a):\n",
    "    log.basicConfig(filename = 'assignment5.log', level = log.DEBUG, format = '%(asctime)s %(message)s %(levelname)s')\n",
    "    \n",
    "    try:\n",
    "        print(\"The Binary value of \",a,\" is \", bin(a))\n",
    "        print(\"The Octal value of \",a,\" is \", oct(a))\n",
    "        print(\"The Hexadecimal value of \",a,\" is \", hex(a))\n",
    "    except Exception as e:\n",
    "        print('Please check your input')\n",
    "        return e"
   ]
  },
  {
   "cell_type": "code",
   "execution_count": 22,
   "id": "d1d4f036",
   "metadata": {},
   "outputs": [
    {
     "name": "stdout",
     "output_type": "stream",
     "text": [
      "The Binary value of  10  is  0b1010\n",
      "The Octal value of  10  is  0o12\n",
      "The Hexadecimal value of  10  is  0xa\n"
     ]
    }
   ],
   "source": [
    "convert_dec(10)"
   ]
  },
  {
   "cell_type": "code",
   "execution_count": 23,
   "id": "7cd31354",
   "metadata": {},
   "outputs": [
    {
     "name": "stdout",
     "output_type": "stream",
     "text": [
      "Please check your input\n"
     ]
    },
    {
     "data": {
      "text/plain": [
       "TypeError(\"'str' object cannot be interpreted as an integer\")"
      ]
     },
     "execution_count": 23,
     "metadata": {},
     "output_type": "execute_result"
    }
   ],
   "source": [
    "convert_dec(\"ererere\")"
   ]
  },
  {
   "cell_type": "markdown",
   "id": "fbe34732",
   "metadata": {},
   "source": [
    "#### 4. Write a Python Program To Find ASCII value of a character?"
   ]
  },
  {
   "cell_type": "code",
   "execution_count": 47,
   "id": "2d6f2f6e",
   "metadata": {},
   "outputs": [],
   "source": [
    "def ascii_finder():\n",
    "    log.basicConfig(filename = 'assignment5.log', level = log.DEBUG, format = '%(asctime)s %(message)s %(levelname)s')\n",
    "\n",
    "    try:\n",
    "        w = input(\"input the character for which ascii value needs to be found: \")\n",
    "        print('The ascii value of ',w,' is: ', ord(w))\n",
    "\n",
    "    except Exception as e:\n",
    "        if len(w) > 1:\n",
    "            try:\n",
    "                w = int(w)\n",
    "                print('The ascii value of ',w,' is: ', chr(w))\n",
    "                      \n",
    "            except Exception as f:\n",
    "                print('Please enter a valid integer')\n",
    "                return f\n",
    "        else:\n",
    "            return e"
   ]
  },
  {
   "cell_type": "code",
   "execution_count": 50,
   "id": "f0995a49",
   "metadata": {},
   "outputs": [
    {
     "name": "stdout",
     "output_type": "stream",
     "text": [
      "input the character for which ascii value needs to be found: 120\n",
      "The ascii value of  120  is:  x\n"
     ]
    }
   ],
   "source": [
    "ascii_finder()"
   ]
  },
  {
   "cell_type": "markdown",
   "id": "6866a219",
   "metadata": {},
   "source": [
    "#### 5. Write a Python Program to Make a Simple Calculator with 4 basic mathematical operations?\n"
   ]
  },
  {
   "cell_type": "code",
   "execution_count": 55,
   "id": "9498d461",
   "metadata": {},
   "outputs": [],
   "source": [
    "def new_calc(*args):\n",
    "    try:\n",
    "    \n",
    "        a = float(input('Enter first num: '))\n",
    "        b = float(input('Enter second num: '))\n",
    "        c = input('Which mathematical operation you want to perform (+,-,*,/): ')\n",
    "\n",
    "        if c == '+':\n",
    "            d = a+b\n",
    "            return d\n",
    "        elif c == '-':\n",
    "            d = a - b\n",
    "            return d\n",
    "        elif c == '*':\n",
    "            d = a*b\n",
    "            return d\n",
    "        elif c == '/':\n",
    "            d = a/b\n",
    "            return d\n",
    "        \n",
    "    except Exception as e:\n",
    "        return e"
   ]
  },
  {
   "cell_type": "code",
   "execution_count": 57,
   "id": "48858f9a",
   "metadata": {},
   "outputs": [
    {
     "name": "stdout",
     "output_type": "stream",
     "text": [
      "Enter first num: 89\n",
      "Enter second num: 09\n",
      "Which mathematical operation you want to perform (+,-,*,/): /\n"
     ]
    },
    {
     "data": {
      "text/plain": [
       "9.88888888888889"
      ]
     },
     "execution_count": 57,
     "metadata": {},
     "output_type": "execute_result"
    }
   ],
   "source": [
    "new_calc()"
   ]
  },
  {
   "cell_type": "code",
   "execution_count": null,
   "id": "9b096326",
   "metadata": {},
   "outputs": [],
   "source": []
  }
 ],
 "metadata": {
  "celltoolbar": "Raw Cell Format",
  "kernelspec": {
   "display_name": "Python 3 (ipykernel)",
   "language": "python",
   "name": "python3"
  },
  "language_info": {
   "codemirror_mode": {
    "name": "ipython",
    "version": 3
   },
   "file_extension": ".py",
   "mimetype": "text/x-python",
   "name": "python",
   "nbconvert_exporter": "python",
   "pygments_lexer": "ipython3",
   "version": "3.9.7"
  }
 },
 "nbformat": 4,
 "nbformat_minor": 5
}
