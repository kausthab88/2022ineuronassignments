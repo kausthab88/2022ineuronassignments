{
 "cells": [
  {
   "cell_type": "markdown",
   "id": "8e27f307",
   "metadata": {},
   "source": [
    "#### 1. Write a Python Program to Add Two Matrices?\n"
   ]
  },
  {
   "cell_type": "code",
   "execution_count": 11,
   "id": "c05e7fc5",
   "metadata": {},
   "outputs": [],
   "source": [
    "import numpy as np"
   ]
  },
  {
   "cell_type": "code",
   "execution_count": 36,
   "id": "4cd54507",
   "metadata": {},
   "outputs": [],
   "source": [
    "def mat_add():\n",
    "    \n",
    "    try:\n",
    "        rows = int(input(\"Enter the no of rows: \"))\n",
    "        cols = int(input(\"Enter the no of cols: \"))\n",
    "\n",
    "        print(\"Enter the elements of first matrix\")\n",
    "        mat_a = [[int(input()) for i in range(cols)] for i in range(rows)]\n",
    "        print(\"First Matrix is: \")\n",
    "        for i in mat_a:\n",
    "            print(i)\n",
    "\n",
    "\n",
    "        print(\"Enter the elements of second matrix\")\n",
    "        mat_b = [[int(input()) for i in range(cols)] for i in range(rows)]\n",
    "        print(\"Second Matrix is: \")\n",
    "        for i in mat_b:\n",
    "            print(i)\n",
    "\n",
    "        result = [[0 for i in range(cols)] for i in range(rows)]\n",
    "\n",
    "        for i in range(rows):\n",
    "            for j in range(cols):\n",
    "                result[i][j] = mat_a[i][j] + mat_b[i][j]\n",
    "\n",
    "        print('The sum of the two matrices are:')\n",
    "\n",
    "        for i in result:\n",
    "            return i\n",
    "        \n",
    "    except Exception as e:\n",
    "        print(\"Enter a valid numeral\")\n",
    "        print(e)"
   ]
  },
  {
   "cell_type": "code",
   "execution_count": null,
   "id": "56ae1de4",
   "metadata": {},
   "outputs": [],
   "source": [
    "mat_add()"
   ]
  },
  {
   "cell_type": "code",
   "execution_count": 37,
   "id": "91651ae2",
   "metadata": {
    "scrolled": true
   },
   "outputs": [
    {
     "name": "stdout",
     "output_type": "stream",
     "text": [
      "Enter the no of rows: t\n",
      "Enter a valid numeral\n",
      "invalid literal for int() with base 10: 't'\n"
     ]
    }
   ],
   "source": [
    "mat_add()"
   ]
  },
  {
   "cell_type": "markdown",
   "id": "ca76b9e9",
   "metadata": {},
   "source": [
    "#### 2. Write a Python Program to Multiply Two Matrices?"
   ]
  },
  {
   "cell_type": "code",
   "execution_count": 67,
   "id": "1d32f0b7",
   "metadata": {},
   "outputs": [],
   "source": [
    "def mat_mul():\n",
    "    \n",
    "    try:\n",
    "        rows = int(input(\"Enter the no of rows: \"))\n",
    "        cols = int(input(\"Enter the no of cols: \"))\n",
    "\n",
    "        print(\"Enter the elements of first matrix\")\n",
    "        mat_a = [[int(input()) for i in range(cols)] for i in range(rows)]\n",
    "        print(\"First Matrix is: \")\n",
    "        for i in mat_a:\n",
    "            print(i)\n",
    "\n",
    "\n",
    "        print(\"Enter the elements of second matrix\")\n",
    "        mat_b = [[int(input()) for i in range(cols)] for i in range(rows)]\n",
    "        print(\"Second Matrix is: \")\n",
    "        for i in mat_b:\n",
    "            print(i)\n",
    "\n",
    "        result = [[0 for i in range(cols)] for i in range(rows)]\n",
    "\n",
    "        for i in range(rows):\n",
    "            for j in range(cols):\n",
    "                for k in range(len(mat_b)):\n",
    "                    result[i][j] += mat_a[i][k] * mat_b[k][j]\n",
    "\n",
    "        print('The product of the two matrices are:')\n",
    "\n",
    "        for i in result:\n",
    "            print(i)\n",
    "            \n",
    "        \n",
    "    except Exception as e:\n",
    "        print(\"Enter a valid numeral\")\n",
    "        print(e)"
   ]
  },
  {
   "cell_type": "code",
   "execution_count": 68,
   "id": "68ce0969",
   "metadata": {},
   "outputs": [
    {
     "name": "stdout",
     "output_type": "stream",
     "text": [
      "Enter the no of rows: 2\n",
      "Enter the no of cols: 2\n",
      "Enter the elements of first matrix\n",
      "1\n",
      "2\n",
      "3\n",
      "4\n",
      "First Matrix is: \n",
      "[1, 2]\n",
      "[3, 4]\n",
      "Enter the elements of second matrix\n",
      "1\n",
      "2\n",
      "3\n",
      "4\n",
      "Second Matrix is: \n",
      "[1, 2]\n",
      "[3, 4]\n",
      "The product of the two matrices are:\n",
      "[7, 10]\n",
      "[15, 22]\n"
     ]
    }
   ],
   "source": [
    "mat_mul()"
   ]
  },
  {
   "cell_type": "markdown",
   "id": "ee1645da",
   "metadata": {},
   "source": [
    "#### 3. Write a Python Program to Transpose a Matrix?"
   ]
  },
  {
   "cell_type": "code",
   "execution_count": 73,
   "id": "1b0efba8",
   "metadata": {},
   "outputs": [],
   "source": [
    "def transpose_mat():\n",
    "    try:\n",
    "        rows = int(input(\"Enter the no of rows: \"))\n",
    "        cols = int(input(\"Enter the no of cols: \"))\n",
    "\n",
    "        print(\"Enter the elements of first matrix\")\n",
    "        mat_a = [[int(input()) for i in range(cols)] for i in range(rows)]\n",
    "        print(\"Matrix is: \")\n",
    "        for i in mat_a:\n",
    "            print(i)\n",
    "\n",
    "\n",
    "        # print(\"Enter the elements of second matrix\")\n",
    "        # mat_b = [[int(input()) for i in range(rows)] for i in range(cols)]\n",
    "        # print(\"Second Matrix is: \")\n",
    "        # for i in mat_b:\n",
    "        #     print(i)\n",
    "\n",
    "        result = [[0 for i in range(rows)] for i in range(cols)]\n",
    "\n",
    "        for i in range(rows):\n",
    "            for j in range(cols):\n",
    "                result[j][i] = mat_a[i][j]\n",
    "\n",
    "        print('The Transpose of Matrix is: ')\n",
    "        for i in result:\n",
    "            print(i)\n",
    "            \n",
    "    except Exception as e:\n",
    "        print(\"Enter a valid numeral\")\n",
    "        print(e)"
   ]
  },
  {
   "cell_type": "code",
   "execution_count": 74,
   "id": "7ffe6e2d",
   "metadata": {},
   "outputs": [
    {
     "name": "stdout",
     "output_type": "stream",
     "text": [
      "Enter the no of rows: 4\n",
      "Enter the no of cols: 3\n",
      "Enter the elements of first matrix\n",
      "1\n",
      "2\n",
      "3\n",
      "4\n",
      "5\n",
      "6\n",
      "7\n",
      "8\n",
      "9\n",
      "10\n",
      "11\n",
      "12\n",
      "Matrix is: \n",
      "[1, 2, 3]\n",
      "[4, 5, 6]\n",
      "[7, 8, 9]\n",
      "[10, 11, 12]\n",
      "The Transpose of Matrix is: \n",
      "[1, 4, 7, 10]\n",
      "[2, 5, 8, 11]\n",
      "[3, 6, 9, 12]\n"
     ]
    }
   ],
   "source": [
    "transpose_mat()"
   ]
  },
  {
   "cell_type": "markdown",
   "id": "26f4069d",
   "metadata": {},
   "source": [
    "#### 4. Write a Python Program to Sort Words in Alphabetic Order?"
   ]
  },
  {
   "cell_type": "code",
   "execution_count": 84,
   "id": "3ed0a77e",
   "metadata": {},
   "outputs": [],
   "source": [
    "def sort_words():\n",
    "    try:\n",
    "        my_word = input(\"Enter the words: \")\n",
    "        print('\\n')\n",
    "        words = [word.lower() for word in my_word.split()]\n",
    "\n",
    "        words.sort()\n",
    "\n",
    "        print(\"The sorted words are as follows: \")\n",
    "        for word in words:\n",
    "            print(word)\n",
    "    except Exception as e:\n",
    "        print(e)"
   ]
  },
  {
   "cell_type": "code",
   "execution_count": 85,
   "id": "0bd19a2a",
   "metadata": {},
   "outputs": [
    {
     "name": "stdout",
     "output_type": "stream",
     "text": [
      "Enter the words: The QUICK lorem IPSUm solor\n",
      "\n",
      "\n",
      "The sorted words are as follows: \n",
      "ipsum\n",
      "lorem\n",
      "quick\n",
      "solor\n",
      "the\n"
     ]
    }
   ],
   "source": [
    "sort_words()"
   ]
  },
  {
   "cell_type": "markdown",
   "id": "04e28f42",
   "metadata": {},
   "source": [
    "#### 5. Write a Python Program to Remove Punctuation From a String?"
   ]
  },
  {
   "cell_type": "code",
   "execution_count": 96,
   "id": "418015cc",
   "metadata": {},
   "outputs": [],
   "source": [
    "def remove_punc():\n",
    "    try:\n",
    "        \n",
    "\n",
    "        punc = '''!()-[]{};:'\"\\,<>./?@#$%^&*_~'''\n",
    "\n",
    "        my_str = input(\"Enter your sentence: \")\n",
    "        no_punct = \"\"\n",
    "        for i in my_str.lower():\n",
    "            if i not in punc:\n",
    "                no_punct = no_punct+i\n",
    "        print(\"The final unpunctuated sentence is: \",no_punct)\n",
    "        \n",
    "    except Exception as e:\n",
    "        print(e)"
   ]
  },
  {
   "cell_type": "code",
   "execution_count": 97,
   "id": "af0d7edc",
   "metadata": {},
   "outputs": [
    {
     "name": "stdout",
     "output_type": "stream",
     "text": [
      "Enter your sentence: Th%^$## qu&^$)(*ick BR@#@$wn\n",
      "The final unpunctuated sentence is:  th quick brwn\n"
     ]
    }
   ],
   "source": [
    "remove_punc()"
   ]
  },
  {
   "cell_type": "code",
   "execution_count": null,
   "id": "32ee5e79",
   "metadata": {},
   "outputs": [],
   "source": []
  }
 ],
 "metadata": {
  "kernelspec": {
   "display_name": "Python 3 (ipykernel)",
   "language": "python",
   "name": "python3"
  },
  "language_info": {
   "codemirror_mode": {
    "name": "ipython",
    "version": 3
   },
   "file_extension": ".py",
   "mimetype": "text/x-python",
   "name": "python",
   "nbconvert_exporter": "python",
   "pygments_lexer": "ipython3",
   "version": "3.9.7"
  }
 },
 "nbformat": 4,
 "nbformat_minor": 5
}
