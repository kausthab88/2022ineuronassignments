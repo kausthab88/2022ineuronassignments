{
 "cells": [
  {
   "cell_type": "markdown",
   "id": "f2c1be47",
   "metadata": {},
   "source": [
    "#### 1. Write a Python Program to find sum of array?\n"
   ]
  },
  {
   "cell_type": "code",
   "execution_count": 9,
   "id": "bb39423e",
   "metadata": {},
   "outputs": [],
   "source": [
    "import numpy"
   ]
  },
  {
   "cell_type": "code",
   "execution_count": 73,
   "id": "e500ed5c",
   "metadata": {},
   "outputs": [],
   "source": [
    "def sum_of_arr(*args):\n",
    "    try:   \n",
    "        arr = list(input('Please enter a comma separated array: ').strip().split(','))\n",
    "        arr = list(map(float,arr))\n",
    "        sum = 0\n",
    "\n",
    "        for i in arr:\n",
    "            sum = sum + i\n",
    "        return sum\n",
    "    \n",
    "    except Exception as e:\n",
    "        print('This is not an array. Please enter a numerical array')\n",
    "        print(e)"
   ]
  },
  {
   "cell_type": "code",
   "execution_count": 68,
   "id": "f9722aad",
   "metadata": {},
   "outputs": [
    {
     "name": "stdout",
     "output_type": "stream",
     "text": [
      "Please enter a comma separated array: 1,2,67,7,8\n"
     ]
    },
    {
     "data": {
      "text/plain": [
       "85"
      ]
     },
     "execution_count": 68,
     "metadata": {},
     "output_type": "execute_result"
    }
   ],
   "source": [
    "sum_of_arr()"
   ]
  },
  {
   "cell_type": "code",
   "execution_count": 69,
   "id": "2fc09c51",
   "metadata": {},
   "outputs": [
    {
     "name": "stdout",
     "output_type": "stream",
     "text": [
      "Please enter a comma separated array: 1,2,3,m\n",
      "This is not an array. Please enter a array\n",
      "invalid literal for int() with base 10: 'm'\n"
     ]
    }
   ],
   "source": [
    "sum_of_arr()"
   ]
  },
  {
   "cell_type": "code",
   "execution_count": 74,
   "id": "4b1c56aa",
   "metadata": {},
   "outputs": [
    {
     "name": "stdout",
     "output_type": "stream",
     "text": [
      "Please enter a comma separated array: 1.1,4,5,6\n"
     ]
    },
    {
     "data": {
      "text/plain": [
       "16.1"
      ]
     },
     "execution_count": 74,
     "metadata": {},
     "output_type": "execute_result"
    }
   ],
   "source": [
    "sum_of_arr()"
   ]
  },
  {
   "cell_type": "markdown",
   "id": "26987f34",
   "metadata": {},
   "source": [
    "#### 2. Write a Python Program to find largest element in an array?\n"
   ]
  },
  {
   "cell_type": "code",
   "execution_count": 92,
   "id": "4e94b112",
   "metadata": {},
   "outputs": [
    {
     "name": "stdout",
     "output_type": "stream",
     "text": [
      "Please enter a comma separated array: 1,2,3,4,5,6,7,7,8,8,9,9,9\n"
     ]
    }
   ],
   "source": [
    "arr = list(input('Please enter a comma separated array: ').strip().split(','))\n",
    "arr = list(map(int,arr))"
   ]
  },
  {
   "cell_type": "code",
   "execution_count": 93,
   "id": "54fd9136",
   "metadata": {},
   "outputs": [
    {
     "data": {
      "text/plain": [
       "[1, 2, 3, 4, 5, 6, 7, 7, 8, 8, 9, 9, 9]"
      ]
     },
     "execution_count": 93,
     "metadata": {},
     "output_type": "execute_result"
    }
   ],
   "source": [
    "arr"
   ]
  },
  {
   "cell_type": "code",
   "execution_count": 193,
   "id": "beb347b9",
   "metadata": {},
   "outputs": [],
   "source": [
    "def lnt(arr):\n",
    "    lnt = 0\n",
    "\n",
    "    for i in arr:\n",
    "        lnt = lnt + 1\n",
    "    return lnt"
   ]
  },
  {
   "cell_type": "code",
   "execution_count": 194,
   "id": "c1713a5a",
   "metadata": {},
   "outputs": [
    {
     "data": {
      "text/plain": [
       "4"
      ]
     },
     "execution_count": 194,
     "metadata": {},
     "output_type": "execute_result"
    }
   ],
   "source": [
    "lnt('kjhh')"
   ]
  },
  {
   "cell_type": "code",
   "execution_count": 101,
   "id": "e50e014e",
   "metadata": {},
   "outputs": [],
   "source": [
    "def lar_ele():\n",
    "    try:\n",
    "        arr = list(input('Please enter a comma separated array: ').strip().split(','))\n",
    "        arr = list(map(int,arr))\n",
    "        lnt = 0\n",
    "\n",
    "        for i in arr:\n",
    "            lnt = lnt + 1\n",
    "\n",
    "        max_num = arr[0]\n",
    "        for i in range(1,lnt):\n",
    "            if arr[i] > max_num:\n",
    "                max_num = arr[i]\n",
    "        return max_num\n",
    "    except Exception as e:\n",
    "        print(e)"
   ]
  },
  {
   "cell_type": "code",
   "execution_count": 102,
   "id": "7c556129",
   "metadata": {},
   "outputs": [
    {
     "name": "stdout",
     "output_type": "stream",
     "text": [
      "Please enter a comma separated array: 1,2,3,m,5,6\n",
      "invalid literal for int() with base 10: 'm'\n"
     ]
    }
   ],
   "source": [
    "lar_ele()"
   ]
  },
  {
   "cell_type": "markdown",
   "id": "c4ff2721",
   "metadata": {},
   "source": [
    "#### 3. Write a Python Program for array rotation?"
   ]
  },
  {
   "cell_type": "code",
   "execution_count": 223,
   "id": "daf2a69b",
   "metadata": {},
   "outputs": [],
   "source": [
    "def arr_rot():\n",
    "    try:\n",
    "        arr = list(input('Please enter a comma separated array: ').strip().split(','))\n",
    "        arr = list(map(int,arr))\n",
    "        d = int(input(\"Factor by which you want to rotate: \"))\n",
    "        n = lnt(arr)\n",
    "        l1 = []\n",
    "        i = 0\n",
    "        while i < d:\n",
    "            l1.append(arr[i])\n",
    "            i = i+1\n",
    "        i = 0\n",
    "        while d<n:\n",
    "            arr[i] = arr[d]\n",
    "            i = i+1\n",
    "            d = d+1\n",
    "        #print(arr)\n",
    "        arr[:] = arr[:i] + l1\n",
    "        return arr\n",
    "    except Exception as e:\n",
    "        print(e)"
   ]
  },
  {
   "cell_type": "code",
   "execution_count": 225,
   "id": "7355c764",
   "metadata": {},
   "outputs": [
    {
     "name": "stdout",
     "output_type": "stream",
     "text": [
      "Please enter a comma separated array: 1,2,3,4,5,6,7,78\n",
      "Factor by which you want to rotate: 5\n"
     ]
    },
    {
     "data": {
      "text/plain": [
       "[6, 7, 78, 1, 2, 3, 4, 5]"
      ]
     },
     "execution_count": 225,
     "metadata": {},
     "output_type": "execute_result"
    }
   ],
   "source": [
    "arr_rot()"
   ]
  },
  {
   "cell_type": "markdown",
   "id": "80c090b9",
   "metadata": {},
   "source": [
    "#### 4. Write a Python Program to Split the array and add the first part to the end?"
   ]
  },
  {
   "cell_type": "code",
   "execution_count": 226,
   "id": "bb621fdb",
   "metadata": {},
   "outputs": [],
   "source": [
    "arr = [3,4,5,6,7,8,9]\n",
    "\n",
    "k = 3"
   ]
  },
  {
   "cell_type": "code",
   "execution_count": 229,
   "id": "d72a286b",
   "metadata": {},
   "outputs": [],
   "source": [
    "def split_add():\n",
    "    try:\n",
    "        arr = list(input('Please enter a comma separated array: ').strip().split(','))\n",
    "        arr = list(map(int,arr))\n",
    "        k = int(input(\"Factor by which you want to split: \"))\n",
    "        n = lnt(arr)\n",
    "        temp = []\n",
    "        i = 0\n",
    "        while i < k:\n",
    "            temp.append(arr[i])\n",
    "            i = i + 1\n",
    "\n",
    "        i = 0\n",
    "        while k < n:\n",
    "            arr[i] = arr[k]\n",
    "            i = i + 1 \n",
    "            k = k + 1\n",
    "        arr[:] = arr[:i] + temp\n",
    "        return(arr)\n",
    "    except Exception as e:\n",
    "        print(e)"
   ]
  },
  {
   "cell_type": "code",
   "execution_count": 231,
   "id": "dad13c93",
   "metadata": {},
   "outputs": [
    {
     "name": "stdout",
     "output_type": "stream",
     "text": [
      "Please enter a comma separated array: 1,2,3,4,5,6,7,8,9,9,99,9,99,9,9\n",
      "Factor by which you want to split: 5\n"
     ]
    },
    {
     "data": {
      "text/plain": [
       "[6, 7, 8, 9, 9, 99, 9, 99, 9, 9, 1, 2, 3, 4, 5]"
      ]
     },
     "execution_count": 231,
     "metadata": {},
     "output_type": "execute_result"
    }
   ],
   "source": [
    "split_add()"
   ]
  },
  {
   "cell_type": "markdown",
   "id": "042b7232",
   "metadata": {},
   "source": [
    "#### 5. Write a Python Program to check if given array is Monotonic?"
   ]
  },
  {
   "cell_type": "code",
   "execution_count": 245,
   "id": "bcb94e5e",
   "metadata": {},
   "outputs": [],
   "source": [
    "def find_mono(arr):\n",
    "    try:\n",
    "\n",
    "        return(all(arr[i] <= arr[i+1] for i in range (len(arr)-1)) or\n",
    "           all(arr[i] >= arr[i+1] for i in range (len(arr)-1)))\n",
    "\n",
    "    except Exception as e:\n",
    "        print(e)"
   ]
  },
  {
   "cell_type": "code",
   "execution_count": 246,
   "id": "985f5b7c",
   "metadata": {},
   "outputs": [
    {
     "data": {
      "text/plain": [
       "False"
      ]
     },
     "execution_count": 246,
     "metadata": {},
     "output_type": "execute_result"
    }
   ],
   "source": [
    "find_mono([6, 7, 8, 9, 9, 99, 9, 99, 9, 9, 1, 2, 3, 4, 5])"
   ]
  },
  {
   "cell_type": "code",
   "execution_count": 247,
   "id": "324efe35",
   "metadata": {},
   "outputs": [
    {
     "data": {
      "text/plain": [
       "True"
      ]
     },
     "execution_count": 247,
     "metadata": {},
     "output_type": "execute_result"
    }
   ],
   "source": [
    "find_mono([1,2,3,4,5,6])"
   ]
  }
 ],
 "metadata": {
  "kernelspec": {
   "display_name": "Python 3 (ipykernel)",
   "language": "python",
   "name": "python3"
  },
  "language_info": {
   "codemirror_mode": {
    "name": "ipython",
    "version": 3
   },
   "file_extension": ".py",
   "mimetype": "text/x-python",
   "name": "python",
   "nbconvert_exporter": "python",
   "pygments_lexer": "ipython3",
   "version": "3.9.7"
  }
 },
 "nbformat": 4,
 "nbformat_minor": 5
}
