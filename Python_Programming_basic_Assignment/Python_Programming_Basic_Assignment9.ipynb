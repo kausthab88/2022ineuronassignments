{
 "cells": [
  {
   "cell_type": "markdown",
   "id": "271da7fb",
   "metadata": {},
   "source": [
    "#### 1. Write a Python program to check if the given number is a Disarium Number?"
   ]
  },
  {
   "cell_type": "code",
   "execution_count": 29,
   "id": "7c6a7528",
   "metadata": {},
   "outputs": [],
   "source": [
    "n = 175\n",
    "\n",
    "n = str(n)\n",
    "\n"
   ]
  },
  {
   "cell_type": "code",
   "execution_count": 30,
   "id": "15cc82f8",
   "metadata": {},
   "outputs": [
    {
     "data": {
      "text/plain": [
       "['1', '7', '5']"
      ]
     },
     "execution_count": 30,
     "metadata": {},
     "output_type": "execute_result"
    }
   ],
   "source": [
    "p =[i for i in n]\n",
    "p"
   ]
  },
  {
   "cell_type": "code",
   "execution_count": 35,
   "id": "4470556c",
   "metadata": {},
   "outputs": [
    {
     "data": {
      "text/plain": [
       "3"
      ]
     },
     "execution_count": 35,
     "metadata": {},
     "output_type": "execute_result"
    }
   ],
   "source": [
    "len(p)"
   ]
  },
  {
   "cell_type": "code",
   "execution_count": 36,
   "id": "22db613c",
   "metadata": {},
   "outputs": [
    {
     "data": {
      "text/plain": [
       "[1, 7, 5]"
      ]
     },
     "execution_count": 36,
     "metadata": {},
     "output_type": "execute_result"
    }
   ],
   "source": [
    "l = [int(i) for i in p]\n",
    "l"
   ]
  },
  {
   "cell_type": "code",
   "execution_count": 55,
   "id": "b5e804be",
   "metadata": {},
   "outputs": [],
   "source": [
    "ind = []\n",
    "for i in l:\n",
    "    ind.append(l.index(i)+1)"
   ]
  },
  {
   "cell_type": "code",
   "execution_count": 56,
   "id": "5e2614a0",
   "metadata": {},
   "outputs": [
    {
     "data": {
      "text/plain": [
       "[1, 2, 3]"
      ]
     },
     "execution_count": 56,
     "metadata": {},
     "output_type": "execute_result"
    }
   ],
   "source": [
    "ind"
   ]
  },
  {
   "cell_type": "code",
   "execution_count": 60,
   "id": "243876ed",
   "metadata": {},
   "outputs": [],
   "source": [
    "m = []\n",
    "for i in l:\n",
    "    for j in ind:\n",
    "        if l.index(i) == ind.index(j):\n",
    "            m.append(i**j)"
   ]
  },
  {
   "cell_type": "code",
   "execution_count": 61,
   "id": "102ef020",
   "metadata": {},
   "outputs": [
    {
     "data": {
      "text/plain": [
       "[1, 49, 125]"
      ]
     },
     "execution_count": 61,
     "metadata": {},
     "output_type": "execute_result"
    }
   ],
   "source": [
    "m"
   ]
  },
  {
   "cell_type": "code",
   "execution_count": 62,
   "id": "be6d10ff",
   "metadata": {},
   "outputs": [],
   "source": [
    "sum1 = 0\n",
    "for i in m:\n",
    "    sum1 = sum1 + i"
   ]
  },
  {
   "cell_type": "code",
   "execution_count": 63,
   "id": "0fac9047",
   "metadata": {},
   "outputs": [
    {
     "data": {
      "text/plain": [
       "175"
      ]
     },
     "execution_count": 63,
     "metadata": {},
     "output_type": "execute_result"
    }
   ],
   "source": [
    "sum1"
   ]
  },
  {
   "cell_type": "code",
   "execution_count": 80,
   "id": "4ea821be",
   "metadata": {},
   "outputs": [],
   "source": [
    "def find_disarium():\n",
    "    try:\n",
    "        n = input(\"Enter the number you want to check: \")\n",
    "        p =[i for i in n]\n",
    "        l = [int(i) for i in p]\n",
    "        ind = []\n",
    "        for i in l:\n",
    "            ind.append(l.index(i)+1)\n",
    "        ind\n",
    "        m = []\n",
    "        for i in l:\n",
    "            for j in ind:\n",
    "                if l.index(i) == ind.index(j):\n",
    "                    m.append(i**j)\n",
    "        sum1 = 0\n",
    "        for i in m:\n",
    "            sum1 = sum1 + i\n",
    "        if n == str(sum1):\n",
    "            return (\"Yes, it is a disarium no\")\n",
    "        else:\n",
    "            return (\"No, it is not a disarium no\")\n",
    "    except Exception as e:\n",
    "        print(e)"
   ]
  },
  {
   "cell_type": "code",
   "execution_count": 81,
   "id": "62b97e8a",
   "metadata": {},
   "outputs": [
    {
     "name": "stdout",
     "output_type": "stream",
     "text": [
      "Enter the number you want to check: 111\n"
     ]
    },
    {
     "data": {
      "text/plain": [
       "'No, it is not a disarium no'"
      ]
     },
     "execution_count": 81,
     "metadata": {},
     "output_type": "execute_result"
    }
   ],
   "source": [
    "find_disarium()"
   ]
  },
  {
   "cell_type": "code",
   "execution_count": 82,
   "id": "9974979e",
   "metadata": {},
   "outputs": [
    {
     "name": "stdout",
     "output_type": "stream",
     "text": [
      "Enter the number you want to check: 518\n"
     ]
    },
    {
     "data": {
      "text/plain": [
       "'Yes, it is a disarium no'"
      ]
     },
     "execution_count": 82,
     "metadata": {},
     "output_type": "execute_result"
    }
   ],
   "source": [
    "find_disarium()"
   ]
  },
  {
   "cell_type": "markdown",
   "id": "ffe5225f",
   "metadata": {},
   "source": [
    "#### 2. Write a Python program to print all disarium numbers between 1 to 100?"
   ]
  },
  {
   "cell_type": "code",
   "execution_count": 87,
   "id": "344d436c",
   "metadata": {},
   "outputs": [
    {
     "name": "stdout",
     "output_type": "stream",
     "text": [
      "89\n"
     ]
    }
   ],
   "source": [
    "for n in range(1,101):\n",
    "    n = str(n)\n",
    "    if len(n)>1:\n",
    "        p =[i for i in n]\n",
    "        l = [int(i) for i in p]\n",
    "        ind = []\n",
    "        for i in l:\n",
    "            ind.append(l.index(i)+1)\n",
    "        ind\n",
    "        m = []\n",
    "        for i in l:\n",
    "            for j in ind:\n",
    "                if l.index(i) == ind.index(j):\n",
    "                    m.append(i**j)\n",
    "        sum1 = 0\n",
    "        for i in m:\n",
    "            sum1 = sum1 + i\n",
    "        if n == str(sum1):\n",
    "            print(n)\n",
    "        else:\n",
    "            pass\n"
   ]
  },
  {
   "cell_type": "markdown",
   "id": "e208c021",
   "metadata": {},
   "source": [
    "#### 3. Write a Python program to check if the given number is Happy Number?"
   ]
  },
  {
   "cell_type": "code",
   "execution_count": 5,
   "id": "557bd79f",
   "metadata": {},
   "outputs": [],
   "source": [
    "def is_happy(n):\n",
    "    \n",
    "    try:\n",
    "\n",
    "        l = list(str(n))\n",
    "        s = 0\n",
    "        for i in l:\n",
    "             s = s + int(i)**2\n",
    "        if s ==1:\n",
    "            return \"It is a happy num\"\n",
    "        else:\n",
    "            return is_happy(s)\n",
    "        \n",
    "    except Exception as e:\n",
    "        print(e)\n",
    "        "
   ]
  },
  {
   "cell_type": "code",
   "execution_count": 7,
   "id": "5b44bf43",
   "metadata": {},
   "outputs": [
    {
     "data": {
      "text/plain": [
       "'It is a happy num'"
      ]
     },
     "execution_count": 7,
     "metadata": {},
     "output_type": "execute_result"
    }
   ],
   "source": [
    "is_happy(100)"
   ]
  },
  {
   "cell_type": "code",
   "execution_count": 8,
   "id": "4a5a31ec",
   "metadata": {},
   "outputs": [
    {
     "name": "stdout",
     "output_type": "stream",
     "text": [
      "invalid literal for int() with base 10: 'e'\n"
     ]
    }
   ],
   "source": [
    "is_happy('e')"
   ]
  },
  {
   "cell_type": "code",
   "execution_count": 6,
   "id": "50a07655",
   "metadata": {},
   "outputs": [],
   "source": [
    "is_happy(78)"
   ]
  },
  {
   "cell_type": "markdown",
   "id": "12742dae",
   "metadata": {},
   "source": [
    "#### 4. Write a Python program to print all happy numbers between 1 and 100?"
   ]
  },
  {
   "cell_type": "code",
   "execution_count": 11,
   "id": "4dc97261",
   "metadata": {},
   "outputs": [
    {
     "name": "stdout",
     "output_type": "stream",
     "text": [
      "List of happy number between 1 and 100 are: \n",
      "1\n",
      " \n",
      "7\n",
      " \n",
      "10\n",
      " \n",
      "13\n",
      " \n",
      "19\n",
      " \n",
      "23\n",
      " \n",
      "28\n",
      " \n",
      "31\n",
      " \n",
      "32\n",
      " \n",
      "44\n",
      " \n",
      "49\n",
      " \n",
      "68\n",
      " \n",
      "70\n",
      " \n",
      "79\n",
      " \n",
      "82\n",
      " \n",
      "86\n",
      " \n",
      "91\n",
      " \n",
      "94\n",
      " \n",
      "97\n",
      " \n",
      "100\n",
      " \n"
     ]
    }
   ],
   "source": [
    "def is_happy(n):\n",
    "    rem = s = 0\n",
    "    \n",
    "    while (n>0):\n",
    "        rem = n%10\n",
    "        s = s + (rem*rem)\n",
    "        n = n//10\n",
    "    return s\n",
    "\n",
    "print(\"List of happy number between 1 and 100 are: \")\n",
    "for i in range (1,101):\n",
    "    res = i\n",
    "    \n",
    "    while (res != 1 and res != 4):\n",
    "        res = is_happy(res)\n",
    "        \n",
    "    if (res ==1):\n",
    "        print(i)\n",
    "        print(\" \")       \n",
    "    \n",
    "    "
   ]
  },
  {
   "cell_type": "markdown",
   "id": "f78a4aa9",
   "metadata": {},
   "source": [
    "#### 5. Write a Python program to determine whether the given number is a Harshad Number?"
   ]
  },
  {
   "cell_type": "code",
   "execution_count": 22,
   "id": "54dac9c4",
   "metadata": {},
   "outputs": [],
   "source": [
    "def is_harshad():\n",
    "    \n",
    "    try:\n",
    "        n = input()\n",
    "\n",
    "        l = list(str(n))\n",
    "        s = 0\n",
    "        for i in l:\n",
    "             s = s + int(i)\n",
    "\n",
    "        if int(n)%s == 0:\n",
    "            return \"Is a Harshad Num\"\n",
    "        else:\n",
    "            return \"Is not a Harshad Num\"\n",
    "        \n",
    "    except Exception as e:\n",
    "        print(e)\n"
   ]
  },
  {
   "cell_type": "code",
   "execution_count": 23,
   "id": "ede66974",
   "metadata": {},
   "outputs": [
    {
     "name": "stdout",
     "output_type": "stream",
     "text": [
      "156\n"
     ]
    },
    {
     "data": {
      "text/plain": [
       "'Is a Harshad Num'"
      ]
     },
     "execution_count": 23,
     "metadata": {},
     "output_type": "execute_result"
    }
   ],
   "source": [
    "is_harshad()"
   ]
  },
  {
   "cell_type": "markdown",
   "id": "d1abfef1",
   "metadata": {},
   "source": [
    "#### 6. Write a Python program to print all pronic numbers between 1 and 100?"
   ]
  },
  {
   "cell_type": "code",
   "execution_count": 24,
   "id": "936e3cef",
   "metadata": {},
   "outputs": [],
   "source": [
    "def is_pronic(n):\n",
    "    flag = False\n",
    "    \n",
    "    for j in range(1,101):\n",
    "        if (j*(j+1)) == n:\n",
    "            flag = True\n",
    "            \n",
    "            break\n",
    "    return flag"
   ]
  },
  {
   "cell_type": "code",
   "execution_count": 25,
   "id": "62fdc7a1",
   "metadata": {},
   "outputs": [
    {
     "data": {
      "text/plain": [
       "True"
      ]
     },
     "execution_count": 25,
     "metadata": {},
     "output_type": "execute_result"
    }
   ],
   "source": [
    "is_pronic(12)"
   ]
  },
  {
   "cell_type": "code",
   "execution_count": 26,
   "id": "d5c30ad5",
   "metadata": {},
   "outputs": [
    {
     "data": {
      "text/plain": [
       "False"
      ]
     },
     "execution_count": 26,
     "metadata": {},
     "output_type": "execute_result"
    }
   ],
   "source": [
    "is_pronic(10)"
   ]
  },
  {
   "cell_type": "code",
   "execution_count": 27,
   "id": "35b6f8f2",
   "metadata": {},
   "outputs": [
    {
     "name": "stdout",
     "output_type": "stream",
     "text": [
      "2\n",
      " \n",
      "6\n",
      " \n",
      "12\n",
      " \n",
      "20\n",
      " \n",
      "30\n",
      " \n",
      "42\n",
      " \n",
      "56\n",
      " \n",
      "72\n",
      " \n",
      "90\n",
      " \n"
     ]
    }
   ],
   "source": [
    "for i in range(1,101):\n",
    "    if is_pronic(i) == True:\n",
    "        print(i)\n",
    "        print(\" \")"
   ]
  },
  {
   "cell_type": "code",
   "execution_count": null,
   "id": "2ca6a667",
   "metadata": {},
   "outputs": [],
   "source": []
  }
 ],
 "metadata": {
  "kernelspec": {
   "display_name": "Python 3 (ipykernel)",
   "language": "python",
   "name": "python3"
  },
  "language_info": {
   "codemirror_mode": {
    "name": "ipython",
    "version": 3
   },
   "file_extension": ".py",
   "mimetype": "text/x-python",
   "name": "python",
   "nbconvert_exporter": "python",
   "pygments_lexer": "ipython3",
   "version": "3.9.7"
  }
 },
 "nbformat": 4,
 "nbformat_minor": 5
}
