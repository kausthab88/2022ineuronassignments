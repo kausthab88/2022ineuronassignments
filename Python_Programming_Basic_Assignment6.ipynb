{
 "cells": [
  {
   "cell_type": "markdown",
   "id": "32fb23a7",
   "metadata": {},
   "source": [
    "#### 1. Write a Python Program to Display Fibonacci Sequence Using Recursion?"
   ]
  },
  {
   "cell_type": "code",
   "execution_count": 1,
   "id": "5f6254f0",
   "metadata": {},
   "outputs": [
    {
     "name": "stdout",
     "output_type": "stream",
     "text": [
      "6\n",
      "Fibonacci sequence:\n",
      "0\n",
      "1\n",
      "1\n",
      "2\n",
      "3\n",
      "5\n"
     ]
    }
   ],
   "source": [
    "def recur_fibo(n):\n",
    "    if n <= 1:\n",
    "        return n\n",
    "    else:\n",
    "        return(recur_fibo(n-1) + recur_fibo(n-2))\n",
    "nterms = int(input())\n",
    "\n",
    "# check if the number of terms is valid\n",
    "if nterms <= 0:\n",
    "    print(\"Plese enter a positive integer\")\n",
    "else:\n",
    "    print(\"Fibonacci sequence:\")\n",
    "    for i in range(nterms):\n",
    "        print(recur_fibo(i))"
   ]
  },
  {
   "cell_type": "markdown",
   "id": "30434376",
   "metadata": {},
   "source": [
    "#### 2. Write a Python Program to Find Factorial of Number Using Recursion?"
   ]
  },
  {
   "cell_type": "code",
   "execution_count": 2,
   "id": "0a76562f",
   "metadata": {},
   "outputs": [],
   "source": [
    "def factorial(x):\n",
    "    try:\n",
    "        if x == 1 or x == 0:\n",
    "            return 1\n",
    "        if x < 0:\n",
    "            print('Enter a positive number')\n",
    "        else:\n",
    "            return (x * factorial(x-1))\n",
    "        \n",
    "    except Exception as e:\n",
    "        print(e)"
   ]
  },
  {
   "cell_type": "code",
   "execution_count": 3,
   "id": "b37cfac1",
   "metadata": {},
   "outputs": [
    {
     "name": "stdout",
     "output_type": "stream",
     "text": [
      "Enter a positive number\n"
     ]
    }
   ],
   "source": [
    "factorial(-4)"
   ]
  },
  {
   "cell_type": "markdown",
   "id": "f4512550",
   "metadata": {},
   "source": [
    "#### 3. Write a Python Program to calculate your Body Mass Index?"
   ]
  },
  {
   "cell_type": "code",
   "execution_count": 9,
   "id": "e40fb86c",
   "metadata": {},
   "outputs": [],
   "source": [
    "def calc_bmi():\n",
    "    try:\n",
    "        weight = float(input('Please enter your weight in Kg: '))\n",
    "        height = float(input('Please enter your height in cm: '))\n",
    "\n",
    "        bmi = round(weight/(height/100)**2,2)\n",
    "        return bmi\n",
    "    except Exception as e:\n",
    "        print(e)\n",
    "    "
   ]
  },
  {
   "cell_type": "code",
   "execution_count": 11,
   "id": "e138cfd3",
   "metadata": {},
   "outputs": [
    {
     "name": "stdout",
     "output_type": "stream",
     "text": [
      "Please enter your weight in Kg: 45\n",
      "Please enter your height in cm: 120\n"
     ]
    },
    {
     "data": {
      "text/plain": [
       "31.25"
      ]
     },
     "execution_count": 11,
     "metadata": {},
     "output_type": "execute_result"
    }
   ],
   "source": [
    "calc_bmi()"
   ]
  },
  {
   "cell_type": "markdown",
   "id": "3cdcf3be",
   "metadata": {},
   "source": [
    "#### 4. Write a Python Program to calculate the natural logarithm of any number?\n"
   ]
  },
  {
   "cell_type": "code",
   "execution_count": 12,
   "id": "8db06cf9",
   "metadata": {},
   "outputs": [],
   "source": [
    "import math"
   ]
  },
  {
   "cell_type": "code",
   "execution_count": 18,
   "id": "0316c3f6",
   "metadata": {},
   "outputs": [],
   "source": [
    "def calc_log():\n",
    "    try:\n",
    "        n = int(input('Please enter the number: '))\n",
    "        return math.log(n)\n",
    "    except Exception as e:\n",
    "        print(\"Please enter a valid input\")\n",
    "        print(e)"
   ]
  },
  {
   "cell_type": "code",
   "execution_count": 19,
   "id": "6200a761",
   "metadata": {},
   "outputs": [
    {
     "name": "stdout",
     "output_type": "stream",
     "text": [
      "Please enter the number: -2\n",
      "Please enter a valid input\n",
      "math domain error\n"
     ]
    }
   ],
   "source": [
    "calc_log()"
   ]
  },
  {
   "cell_type": "code",
   "execution_count": 20,
   "id": "5fe7c3ff",
   "metadata": {},
   "outputs": [
    {
     "name": "stdout",
     "output_type": "stream",
     "text": [
      "Please enter the number: 1\n"
     ]
    },
    {
     "data": {
      "text/plain": [
       "0.0"
      ]
     },
     "execution_count": 20,
     "metadata": {},
     "output_type": "execute_result"
    }
   ],
   "source": [
    "calc_log()"
   ]
  },
  {
   "cell_type": "markdown",
   "id": "ac8a2482",
   "metadata": {},
   "source": [
    "#### 5. Write a Python Program for cube sum of first n natural numbers?"
   ]
  },
  {
   "cell_type": "code",
   "execution_count": 42,
   "id": "cb213f7b",
   "metadata": {},
   "outputs": [],
   "source": [
    "def calc_cubesum():\n",
    "    try: \n",
    "        n = int(input('Enter the number of cube term you want: '))\n",
    "        if n >0:\n",
    "            s = 0\n",
    "            for i in range(1,n+1):\n",
    "                s = s + i**3\n",
    "            return s\n",
    "        else:\n",
    "            print(\"Enter a positive number\")\n",
    "    except Exception as e:\n",
    "            print(\"Enter a valid positive number\")\n",
    "            print(e)"
   ]
  },
  {
   "cell_type": "code",
   "execution_count": 40,
   "id": "6d9350ee",
   "metadata": {},
   "outputs": [
    {
     "name": "stdout",
     "output_type": "stream",
     "text": [
      "Enter the number of cube term you want: -1\n",
      "Enter a positive number\n"
     ]
    }
   ],
   "source": [
    "calc_cubesum()"
   ]
  },
  {
   "cell_type": "code",
   "execution_count": 43,
   "id": "5a7307dc",
   "metadata": {},
   "outputs": [
    {
     "name": "stdout",
     "output_type": "stream",
     "text": [
      "Enter the number of cube term you want: uu\n",
      "Enter a valid positive number\n",
      "invalid literal for int() with base 10: 'uu'\n"
     ]
    }
   ],
   "source": [
    "calc_cubesum()"
   ]
  },
  {
   "cell_type": "code",
   "execution_count": 44,
   "id": "1783f1ff",
   "metadata": {},
   "outputs": [
    {
     "name": "stdout",
     "output_type": "stream",
     "text": [
      "Enter the number of cube term you want: 5\n"
     ]
    },
    {
     "data": {
      "text/plain": [
       "225"
      ]
     },
     "execution_count": 44,
     "metadata": {},
     "output_type": "execute_result"
    }
   ],
   "source": [
    "calc_cubesum()"
   ]
  },
  {
   "cell_type": "code",
   "execution_count": null,
   "id": "67f04076",
   "metadata": {},
   "outputs": [],
   "source": []
  }
 ],
 "metadata": {
  "kernelspec": {
   "display_name": "Python 3 (ipykernel)",
   "language": "python",
   "name": "python3"
  },
  "language_info": {
   "codemirror_mode": {
    "name": "ipython",
    "version": 3
   },
   "file_extension": ".py",
   "mimetype": "text/x-python",
   "name": "python",
   "nbconvert_exporter": "python",
   "pygments_lexer": "ipython3",
   "version": "3.9.7"
  }
 },
 "nbformat": 4,
 "nbformat_minor": 5
}
